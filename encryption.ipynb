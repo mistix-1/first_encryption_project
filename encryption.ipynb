{
  "cells": [
    {
      "cell_type": "code",
      "execution_count": 14,
      "metadata": {
        "colab": {
          "base_uri": "https://localhost:8080/"
        },
        "id": "R0v2kK6W2W_9",
        "outputId": "0d4f0f4b-a1a2-4cf3-8ff5-348a7765b9cb"
      },
      "outputs": [
        {
          "output_type": "stream",
          "name": "stdout",
          "text": [
            "Requirement already satisfied: cryptography in /usr/local/lib/python3.11/dist-packages (43.0.3)\n",
            "Requirement already satisfied: cffi>=1.12 in /usr/local/lib/python3.11/dist-packages (from cryptography) (1.17.1)\n",
            "Requirement already satisfied: pycparser in /usr/local/lib/python3.11/dist-packages (from cffi>=1.12->cryptography) (2.22)\n",
            "Requirement already satisfied: sympy in /usr/local/lib/python3.11/dist-packages (1.13.1)\n",
            "Requirement already satisfied: mpmath<1.4,>=1.1.0 in /usr/local/lib/python3.11/dist-packages (from sympy) (1.3.0)\n"
          ]
        }
      ],
      "source": [
        "!pip install cryptography\n",
        "import random\n",
        "import math\n",
        "import binascii\n",
        "from cryptography.hazmat.primitives.asymmetric import rsa, padding\n",
        "from cryptography.hazmat.primitives import hashes, serialization\n",
        "import secrets\n",
        "!pip install sympy\n",
        "from sympy import mod_inverse\n",
        "from sympy import isprime as isPrime\n",
        "import hashlib\n",
        "import hmac\n",
        "\n"
      ]
    },
    {
      "cell_type": "code",
      "execution_count": 15,
      "metadata": {
        "id": "-YMjMkVN23Uj"
      },
      "outputs": [],
      "source": [
        "class seedGenerator:\n",
        "  def seed_gen():\n",
        "    return secrets.randbelow(10**25 - 10**16) + 10**16\n",
        "\n",
        "  def get_middle_digits(seed: int):\n",
        "    seed_str = str(seed)\n",
        "    length = len(seed_str)\n",
        "\n",
        "    if length < 15:\n",
        "        return seed\n",
        "\n",
        "    start = (length // 2) - 7\n",
        "    end = (length // 2) + 8\n",
        "\n",
        "    return int(seed_str[start:end])\n",
        "\n",
        "\n",
        "  def iteration(x: int, seed: int):\n",
        "    current = seed\n",
        "\n",
        "    for i in range(x):\n",
        "        middle = seedGenerator.get_middle_digits(current)\n",
        "        current = middle ** 2\n",
        "\n",
        "    return current\n"
      ]
    },
    {
      "cell_type": "markdown",
      "metadata": {
        "id": "PyFmpw_Rruf4"
      },
      "source": [
        "creation of private key of bob and sending the seed to alice so itll be shared"
      ]
    },
    {
      "cell_type": "code",
      "execution_count": 16,
      "metadata": {
        "id": "WPDNrJV6ZtDs",
        "colab": {
          "base_uri": "https://localhost:8080/"
        },
        "outputId": "855a809b-4cb4-4fa0-edeb-4bb7339ed832"
      },
      "outputs": [
        {
          "output_type": "stream",
          "name": "stdout",
          "text": [
            "\n",
            "--- Initiating Seed Exchange (RSA) ---\n",
            "Generating Bob's RSA primes (p and q)... This might take a moment.\n",
            "Bob's RSA keys generated.\n",
            "Alice generates a random seed: 4630329492838465589089189\n",
            "Alice encrypts seed for Bob: 1082376598402334935774054687823869057460229249448182329422877854781822579382865708683386742343746089944636470525418057785952424549419785131237359025217208477151362542002536272483057610510176636644958785250023825684353342667342570791193007646795521941202959054032789801361850282929337744011159441126961119066814\n",
            "Bob decrypts seed: 4630329492838465589089189\n",
            "Seed successfully exchanged and verified!\n"
          ]
        }
      ],
      "source": [
        "# Cell 3: RSA Helper Functions and Seed Exchange Logic\n",
        "\n",
        "\n",
        "def miller_rabin(n, k=5):\n",
        "    if n == 2 or n == 3:\n",
        "        return True\n",
        "    if n < 2 or n % 2 == 0:\n",
        "        return False\n",
        "\n",
        "    d, r = n - 1, 0\n",
        "    while d % 2 == 0:\n",
        "        d //= 2\n",
        "        r += 1\n",
        "\n",
        "    for _ in range(k):\n",
        "        a = random.randrange(2, n - 1)\n",
        "        x = pow(a, d, n)\n",
        "        if x == 1 or x == n - 1:\n",
        "            continue\n",
        "        for _ in range(r - 1):\n",
        "            x = pow(x, 2, n)\n",
        "            if x == n - 1:\n",
        "                break\n",
        "        else:\n",
        "            return False\n",
        "    return True\n",
        "\n",
        "def mod_inverse(a, m):\n",
        "    m0, x0, x1 = m, 0, 1\n",
        "    if m == 1:\n",
        "        return 0\n",
        "    while a > 1:\n",
        "        q = a // m\n",
        "        m, a = a % m, m\n",
        "        x0, x1 = x1 - q * x0, x0\n",
        "    if x1 < 0:\n",
        "        x1 += m0\n",
        "    return x1\n",
        "\n",
        "def generate_prime():\n",
        "    while True:\n",
        "        candidate = secrets.randbits(514)\n",
        "        candidate |= 1\n",
        "        if miller_rabin(candidate):\n",
        "            return candidate\n",
        "\n",
        "def gen_rsa_bob_keys():\n",
        "    print(\"Generating Bob's RSA primes (p and q)... This might take a moment.\")\n",
        "    p = generate_prime()\n",
        "    q = generate_prime()\n",
        "\n",
        "    while p == q:\n",
        "        q = generate_prime()\n",
        "\n",
        "    N = p * q\n",
        "    phi_N = (p - 1) * (q - 1)\n",
        "\n",
        "    e = 65537\n",
        "    d = mod_inverse(e, phi_N)\n",
        "\n",
        "    public_key = (e, N)\n",
        "    private_key = (d, N)\n",
        "\n",
        "    return public_key, private_key\n",
        "\n",
        "def encrypt(seed_val, public_key):\n",
        "    e, N = public_key\n",
        "    return pow(seed_val, e, N)\n",
        "\n",
        "def decrypt(cipherText, private_key):\n",
        "    d, n = private_key\n",
        "    return pow(cipherText, d, n)\n",
        "\n",
        "def exchange_seeds():\n",
        "    print(\"\\n--- Initiating Seed Exchange (RSA) ---\")\n",
        "    bob_public_key, bob_private_key = gen_rsa_bob_keys()\n",
        "    print(\"Bob's RSA keys generated.\")\n",
        "\n",
        "    # This line calls seedGenerator.seed_gen() from Cell 2\n",
        "    alice_seed = seedGenerator.seed_gen()\n",
        "    print(f\"Alice generates a random seed: {alice_seed}\")\n",
        "\n",
        "    alice_cipherText = encrypt(alice_seed, bob_public_key)\n",
        "    print(f\"Alice encrypts seed for Bob: {alice_cipherText}\")\n",
        "\n",
        "    decrypted_bob_seed = decrypt(alice_cipherText, bob_private_key)\n",
        "    print(f\"Bob decrypts seed: {decrypted_bob_seed}\")\n",
        "\n",
        "    if alice_seed == decrypted_bob_seed:\n",
        "        print(\"Seed successfully exchanged and verified!\")\n",
        "    else:\n",
        "        print(\"There was an error in the seed exchange!\")\n",
        "\n",
        "    # This function returns the seeds and Bob's keys\n",
        "    return alice_seed, decrypted_bob_seed, bob_public_key, bob_private_key\n",
        "\n",
        "\n",
        "\n",
        "alice_seed, bob_received_seed, bob_public_key_rsa, bob_private_key_rsa = exchange_seeds()\n",
        "\n"
      ]
    },
    {
      "cell_type": "markdown",
      "metadata": {
        "id": "Wt9s2Uf_scMZ"
      },
      "source": [
        "bobs keys:\n",
        "bob_private_key (e,d)\n",
        "public_key1 (e,n)"
      ]
    },
    {
      "cell_type": "code",
      "execution_count": 17,
      "metadata": {
        "id": "J_ZTbFvbrXMZ"
      },
      "outputs": [],
      "source": [
        "def gen_rsa_alice_keys():\n",
        "  p = generate_prime()\n",
        "  q = generate_prime()\n",
        "\n",
        "  while p==q:\n",
        "    q = generate_prime()\n",
        "\n",
        "  N = p*q\n",
        "  phi_N = (p-1)*(q-1)\n",
        "\n",
        "  e = 65539\n",
        "  d = mod_inverse (e,phi_N)\n",
        "\n",
        "  public_key = (e,N)\n",
        "  private_key = (d, N)\n",
        "\n",
        "  return public_key,private_key\n",
        "\n",
        "\n"
      ]
    },
    {
      "cell_type": "markdown",
      "metadata": {
        "id": "HZ2sNW2yADU9"
      },
      "source": [
        "alice keys\n",
        "alice_private_key\n",
        "alice_public_key"
      ]
    },
    {
      "cell_type": "code",
      "execution_count": 18,
      "metadata": {
        "id": "DIDh2jjMAIoc"
      },
      "outputs": [],
      "source": [
        "\n",
        "\n",
        "\n",
        "ITER_BITS = 16\n",
        "LEN_BITS = 16\n",
        "\n",
        "def encrypt_message(message, seedGenerator, seed):\n",
        "    def to_binary(text):\n",
        "        return ''.join([bin(ord(char))[2:].zfill(8) for char in text])\n",
        "\n",
        "    message_binary = to_binary(message)\n",
        "    original_length_in_bits = len(message_binary)\n",
        "\n",
        "    iteration = secrets.randbelow(9000) + 1000\n",
        "\n",
        "    embedded_iteration_binary = bin(iteration)[2:].zfill(ITER_BITS)\n",
        "    embedded_length_binary = bin(original_length_in_bits)[2:].zfill(LEN_BITS)\n",
        "\n",
        "    combined_plain_binary = embedded_length_binary + message_binary + embedded_iteration_binary\n",
        "\n",
        "    cipher_num = seedGenerator.iteration(iteration, seed)\n",
        "    cipher_binary = bin(cipher_num)[2:]\n",
        "\n",
        "    if len(cipher_binary) < len(combined_plain_binary):\n",
        "        cipher_binary = (cipher_binary * (len(combined_plain_binary) // len(cipher_binary) + 1))[:len(combined_plain_binary)]\n",
        "\n",
        "    def xor_binary(data_binary, key_stream_binary):\n",
        "        return ''.join('1' if b1 != b2 else '0' for b1, b2 in zip(data_binary, key_stream_binary))\n",
        "\n",
        "    encrypted_combined_binary = xor_binary(combined_plain_binary, cipher_binary)\n",
        "\n",
        "    def binary_to_ascii_string(binary_data):\n",
        "        if len(binary_data) % 8 != 0:\n",
        "             binary_data += '0' * (8 - (len(binary_data) % 8))\n",
        "        chunks = [binary_data[i:i+8] for i in range(0, len(binary_data), 8)]\n",
        "        ascii_chars = [chr(int(chunk, 2)) for chunk in chunks]\n",
        "        return ''.join(ascii_chars)\n",
        "\n",
        "    final_encrypted_ascii_payload = binary_to_ascii_string(encrypted_combined_binary)\n",
        "\n",
        "    # --- NEW: Generate HMAC-SHA256 Authentication Tag ---\n",
        "    # Derive a consistent HMAC key from the shared seed.\n",
        "    # We convert the integer seed to a string and then to bytes, as HMAC requires a bytes key.\n",
        "    # In a real system, you'd use a more robust Key Derivation Function (KDF) here.\n",
        "    hmac_key = str(seed).encode('utf-8')\n",
        "\n",
        "    # Calculate the HMAC-SHA256 of the encrypted payload using the derived key.\n",
        "    # The payload also needs to be converted to bytes for HMAC.\n",
        "    authentication_tag = hmac.new(hmac_key, final_encrypted_ascii_payload.encode('utf-8'), hashlib.sha256).hexdigest()\n",
        "    # ---------------------------------------------------\n",
        "\n",
        "    # Return the encrypted payload, the iteration, the original length, AND the authentication tag.\n",
        "    return final_encrypted_ascii_payload, iteration, original_length_in_bits, authentication_tag"
      ]
    },
    {
      "cell_type": "markdown",
      "metadata": {
        "id": "N0RLEe2-52Aq"
      },
      "source": [
        "encrypting first layer of bob message"
      ]
    },
    {
      "cell_type": "code",
      "execution_count": 19,
      "metadata": {
        "id": "N_UYgJse503S"
      },
      "outputs": [],
      "source": [
        "\n",
        "\n",
        "def decrypt_message(encrypted_ascii_string, received_iteration_for_key_gen, received_length_for_final_trim, seed, received_authentication_tag):\n",
        "    # --- NEW: HMAC-SHA256 Authentication Tag Verification ---\n",
        "    # Derive the SAME HMAC key using the shared seed that the sender used.\n",
        "    hmac_key = str(seed).encode('utf-8')\n",
        "\n",
        "    # Recalculate the HMAC-SHA256 of the received encrypted string.\n",
        "    recalculated_tag = hmac.new(hmac_key, encrypted_ascii_string.encode('utf-8'), hashlib.sha256).hexdigest()\n",
        "\n",
        "    # Compare the recalculated tag with the received tag.\n",
        "    # hmac.compare_digest() is used for constant-time comparison to prevent timing attacks.\n",
        "    if not hmac.compare_digest(recalculated_tag, received_authentication_tag):\n",
        "        print(\"!!!!!!!!!!!!!!!!!!!!!!!!!!!!!!!!!!!!!!!!!!!!\")\n",
        "        print(\"ATTENTION: MESSAGE TAMPERED OR FORGED! HMAC MISMATCH!\")\n",
        "        print(\"!!!!!!!!!!!!!!!!!!!!!!!!!!!!!!!!!!!!!!!!!!!!\")\n",
        "        return \"ERROR: Message Tampered or Forged!\" # Reject the message if integrity is compromised\n",
        "    else:\n",
        "        print(\"Message Integrity and Authenticity OK. Proceeding with decryption.\")\n",
        "    # -----------------------------------------------------------------\n",
        "\n",
        "    # 1. Convert encrypted ASCII string back to binary\n",
        "    def ascii_string_to_binary(ascii_str):\n",
        "       return ''.join([bin(ord(c))[2:].zfill(8) for c in ascii_str])\n",
        "\n",
        "    encrypted_combined_binary = ascii_string_to_binary(encrypted_ascii_string)\n",
        "\n",
        "    # 2. Re-generate the key stream using the EXTERNALLY RECEIVED iteration and shared seed\n",
        "    cipher_num = seedGenerator.iteration(received_iteration_for_key_gen, seed)\n",
        "    cipher_binary = bin(cipher_num)[2:]\n",
        "\n",
        "    if len(cipher_binary) < len(encrypted_combined_binary):\n",
        "        cipher_binary = (cipher_binary * (len(encrypted_combined_binary) // len(cipher_binary) + 1))[:len(encrypted_combined_binary)]\n",
        "\n",
        "    def xor_binary(data_binary, key_stream_binary):\n",
        "        return ''.join('1' if b1 != b2 else '0' for b1, b2 in zip(data_binary, key_stream_binary))\n",
        "\n",
        "    decrypted_plain_payload_binary = xor_binary(encrypted_combined_binary, cipher_binary)\n",
        "\n",
        "    # 4. Parse the decrypted plain payload to extract embedded metadata and original message\n",
        "    extracted_embedded_iteration_binary = decrypted_plain_payload_binary[-ITER_BITS:]\n",
        "    extracted_embedded_length_binary = decrypted_plain_payload_binary[:LEN_BITS]\n",
        "\n",
        "    original_message_binary = decrypted_plain_payload_binary[LEN_BITS : -ITER_BITS]\n",
        "\n",
        "    recovered_embedded_iteration = int(extracted_embedded_iteration_binary, 2)\n",
        "    recovered_embedded_length = int(extracted_embedded_length_binary, 2)\n",
        "\n",
        "    def binary_to_text(binary_data, final_msg_length_in_bits):\n",
        "        trimmed_binary_data = binary_data[:final_msg_length_in_bits]\n",
        "        chars = [chr(int(trimmed_binary_data[i:i+8], 2)) for i in range(0, len(trimmed_binary_data), 8)]\n",
        "        return ''.join(chars)\n",
        "\n",
        "    original_message = binary_to_text(original_message_binary, recovered_embedded_length)\n",
        "\n",
        "    return original_message"
      ]
    },
    {
      "cell_type": "code",
      "execution_count": 20,
      "metadata": {
        "id": "hFHqrxZ9-9I8"
      },
      "outputs": [],
      "source": [
        "def rsa_encrypt(message: str, public_key: tuple):\n",
        "    e, N = public_key\n",
        "    message_bytes = message.encode('utf-8')\n",
        "    message_int = int.from_bytes(message_bytes, 'big')\n",
        "    rsa_encrypted = pow(message_int, e, N)\n",
        "    return rsa_encrypted\n",
        "\n",
        "\n",
        "def rsa_decrypt(encrypted_message: int, private_key: tuple):\n",
        "    d, N = private_key\n",
        "    decrypted_int = pow(encrypted_message, d, N)\n",
        "    decrypted_bytes = decrypted_int.to_bytes((decrypted_int.bit_length() + 7) // 8, 'big')\n",
        "    decrypted_str = decrypted_bytes.decode('utf-8')\n",
        "    return decrypted_str\n"
      ]
    },
    {
      "cell_type": "code",
      "execution_count": null,
      "metadata": {
        "colab": {
          "base_uri": "https://localhost:8080/"
        },
        "id": "gbnXe7VvCE5d",
        "outputId": "cc613b6f-4e2d-428d-8dc3-03a7b2bc7b03"
      },
      "outputs": [
        {
          "output_type": "stream",
          "name": "stdout",
          "text": [
            "\n",
            "--- Starting Encrypted Chat Simulation ---\n",
            "Type 'exit' at any prompt to end the chat.\n",
            "\n",
            "Alice (Type your message): hi!\n",
            "\n",
            "--- Alice to Bob (Encrypted & Authenticated) ---\n",
            "Payload: àAè · \u000f\n",
            "HMAC Tag: 66f0e1e511ab165d8055a5782069f3184b7b7f135a60911acbf8bd6c9e0a4b30\n",
            "Message Integrity and Authenticity OK. Proceeding with decryption.\n",
            "Bob decrypted: hi!\n",
            "\n",
            "Bob (Type your reply): hello\n",
            "\n",
            "--- Bob to Alice (Encrypted & Authenticated) ---\n",
            "Payload: ¦ðæ\u0005åò\n",
            "HMAC Tag: f965f6610ccf832f2dde2795ad3fbd0a55ecb575be545f6cdb48fefaa950c3a2\n",
            "Message Integrity and Authenticity OK. Proceeding with decryption.\n",
            "Alice decrypted: hello\n"
          ]
        }
      ],
      "source": [
        "\n",
        "print(\"\\n--- Starting Encrypted Chat Simulation ---\")\n",
        "print(\"Type 'exit' at any prompt to end the chat.\")\n",
        "\n",
        "while True:\n",
        "    # --- Alice sends a message to Bob ---\n",
        "    alice_msg = input(\"\\nAlice (Type your message): \")\n",
        "    if alice_msg.lower() == 'exit':\n",
        "        print(\"Chat ended.\")\n",
        "        break\n",
        "\n",
        "    # Encrypt Alice's message, including generating an HMAC tag\n",
        "    final_encrypted_ascii_payload_alice, iteration_alice, original_length_alice, tag_alice = encrypt_message(alice_msg, seedGenerator, alice_seed)\n",
        "\n",
        "    print(f\"\\n--- Alice to Bob (Encrypted & Authenticated) ---\")\n",
        "    print(f\"Payload: {final_encrypted_ascii_payload_alice}\")\n",
        "    print(f\"HMAC Tag: {tag_alice}\")\n",
        "\n",
        "    # Simulate Bob receiving and decrypting\n",
        "    received_payload_by_bob = final_encrypted_ascii_payload_alice\n",
        "    received_iteration_by_bob = iteration_alice\n",
        "    received_length_by_bob = original_length_alice\n",
        "    received_tag_by_bob = tag_alice\n",
        "\n",
        "    decrypted_msg_bob = decrypt_message(\n",
        "        received_payload_by_bob,\n",
        "        received_iteration_by_bob,\n",
        "        received_length_by_bob,\n",
        "        bob_received_seed,\n",
        "        received_tag_by_bob\n",
        "    )\n",
        "    print(f\"Bob decrypted: {decrypted_msg_bob}\")\n",
        "\n",
        "\n",
        "    # --- Bob sends a reply to Alice ---\n",
        "    bob_msg = input(\"\\nBob (Type your reply): \")\n",
        "    if bob_msg.lower() == 'exit':\n",
        "        print(\"Chat ended.\")\n",
        "        break\n",
        "\n",
        "    # Encrypt Bob's reply, including generating an HMAC tag\n",
        "    final_encrypted_ascii_payload_bob, iteration_bob, original_length_bob, tag_bob = encrypt_message(bob_msg, seedGenerator, bob_received_seed)\n",
        "\n",
        "    print(f\"\\n--- Bob to Alice (Encrypted & Authenticated) ---\")\n",
        "    print(f\"Payload: {final_encrypted_ascii_payload_bob}\")\n",
        "    print(f\"HMAC Tag: {tag_bob}\")\n",
        "\n",
        "    # Simulate Alice receiving and decrypting\n",
        "    received_payload_by_alice = final_encrypted_ascii_payload_bob\n",
        "    received_iteration_by_alice = iteration_bob\n",
        "    received_length_by_alice = original_length_bob\n",
        "    received_tag_by_alice = tag_bob\n",
        "\n",
        "    decrypted_msg_alice = decrypt_message(\n",
        "        received_payload_by_alice,\n",
        "        received_iteration_by_alice,\n",
        "        received_length_by_alice,\n",
        "        alice_seed,\n",
        "        received_tag_by_alice\n",
        "    )\n",
        "    print(f\"Alice decrypted: {decrypted_msg_alice}\")"
      ]
    },
    {
      "cell_type": "code",
      "source": [],
      "metadata": {
        "id": "j9VVJr0khA2A"
      },
      "execution_count": null,
      "outputs": []
    }
  ],
  "metadata": {
    "colab": {
      "provenance": []
    },
    "kernelspec": {
      "display_name": "Python 3",
      "name": "python3"
    },
    "language_info": {
      "name": "python"
    }
  },
  "nbformat": 4,
  "nbformat_minor": 0
}